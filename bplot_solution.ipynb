{
 "cells": [
  {
   "cell_type": "code",
   "execution_count": 1,
   "metadata": {},
   "outputs": [],
   "source": [
    "import numpy as np\n",
    "import pandas as pd\n",
    "import ipywidgets as ipw\n",
    "import bqplot as bp"
   ]
  },
  {
   "cell_type": "code",
   "execution_count": 2,
   "metadata": {},
   "outputs": [],
   "source": [
    "def price(ticker,baseprice):\n",
    "    x = pd.date_range(end='2019-11-25',periods=100,freq='B')\n",
    "    na = np.random.randn(100)\n",
    "    na[0] = baseprice\n",
    "    na = np.cumsum(na)\n",
    "    return pd.DataFrame({ticker:na},index=x)"
   ]
  },
  {
   "cell_type": "code",
   "execution_count": 3,
   "metadata": {},
   "outputs": [],
   "source": [
    "IBM = price('IBM US Equity',100.0)\n",
    "MSFT = price('MSFT US Equity',110.0)\n",
    "AAPL = price('AAPL US Equity',120.0)\n",
    "V = price('V US Equity',130.0)\n",
    "FB = price('FB US Equity',140.0)"
   ]
  },
  {
   "cell_type": "code",
   "execution_count": 9,
   "metadata": {},
   "outputs": [],
   "source": [
    "df = IBM.join([MSFT,AAPL,V,FB])\n"
   ]
  },
  {
   "cell_type": "code",
   "execution_count": 11,
   "metadata": {},
   "outputs": [
    {
     "data": {
      "text/html": [
       "<div>\n",
       "<style scoped>\n",
       "    .dataframe tbody tr th:only-of-type {\n",
       "        vertical-align: middle;\n",
       "    }\n",
       "\n",
       "    .dataframe tbody tr th {\n",
       "        vertical-align: top;\n",
       "    }\n",
       "\n",
       "    .dataframe thead th {\n",
       "        text-align: right;\n",
       "    }\n",
       "</style>\n",
       "<table border=\"1\" class=\"dataframe\">\n",
       "  <thead>\n",
       "    <tr style=\"text-align: right;\">\n",
       "      <th></th>\n",
       "      <th>IBM US Equity</th>\n",
       "      <th>MSFT US Equity</th>\n",
       "      <th>AAPL US Equity</th>\n",
       "      <th>V US Equity</th>\n",
       "      <th>FB US Equity</th>\n",
       "    </tr>\n",
       "  </thead>\n",
       "  <tbody>\n",
       "    <tr>\n",
       "      <td>2019-07-09</td>\n",
       "      <td>100.000000</td>\n",
       "      <td>110.000000</td>\n",
       "      <td>120.000000</td>\n",
       "      <td>130.000000</td>\n",
       "      <td>140.000000</td>\n",
       "    </tr>\n",
       "    <tr>\n",
       "      <td>2019-07-10</td>\n",
       "      <td>99.954165</td>\n",
       "      <td>109.927786</td>\n",
       "      <td>118.475027</td>\n",
       "      <td>131.572883</td>\n",
       "      <td>140.058116</td>\n",
       "    </tr>\n",
       "    <tr>\n",
       "      <td>2019-07-11</td>\n",
       "      <td>100.769630</td>\n",
       "      <td>109.682947</td>\n",
       "      <td>119.454694</td>\n",
       "      <td>130.191029</td>\n",
       "      <td>137.312231</td>\n",
       "    </tr>\n",
       "    <tr>\n",
       "      <td>2019-07-12</td>\n",
       "      <td>99.313393</td>\n",
       "      <td>109.089459</td>\n",
       "      <td>119.577009</td>\n",
       "      <td>131.330048</td>\n",
       "      <td>138.373036</td>\n",
       "    </tr>\n",
       "    <tr>\n",
       "      <td>2019-07-15</td>\n",
       "      <td>99.107946</td>\n",
       "      <td>108.190169</td>\n",
       "      <td>122.650582</td>\n",
       "      <td>131.101434</td>\n",
       "      <td>137.314335</td>\n",
       "    </tr>\n",
       "  </tbody>\n",
       "</table>\n",
       "</div>"
      ],
      "text/plain": [
       "            IBM US Equity  MSFT US Equity  AAPL US Equity  V US Equity  \\\n",
       "2019-07-09     100.000000      110.000000      120.000000   130.000000   \n",
       "2019-07-10      99.954165      109.927786      118.475027   131.572883   \n",
       "2019-07-11     100.769630      109.682947      119.454694   130.191029   \n",
       "2019-07-12      99.313393      109.089459      119.577009   131.330048   \n",
       "2019-07-15      99.107946      108.190169      122.650582   131.101434   \n",
       "\n",
       "            FB US Equity  \n",
       "2019-07-09    140.000000  \n",
       "2019-07-10    140.058116  \n",
       "2019-07-11    137.312231  \n",
       "2019-07-12    138.373036  \n",
       "2019-07-15    137.314335  "
      ]
     },
     "execution_count": 11,
     "metadata": {},
     "output_type": "execute_result"
    }
   ],
   "source": [
    "df.head()"
   ]
  },
  {
   "cell_type": "code",
   "execution_count": 6,
   "metadata": {
    "scrolled": true
   },
   "outputs": [],
   "source": [
    "x_sc = bp.DateScale()\n",
    "y_sc = bp.LinearScale()\n",
    "\n",
    "def_tt = bp.Tooltip(fields=['name'])\n",
    "line_chart = bp.Lines(x=df.index, y=df['IBM US Equity'],\n",
    "                      scales= {'x': x_sc, 'y': y_sc}, \n",
    "                       tooltip=def_tt, display_legend=True, labels=[\"IBM US Equity\"], )\n",
    "\n",
    "ax_x = bp.Axis(scale=x_sc,tick_rotate=45)\n",
    "ax_y = bp.Axis(scale=y_sc, orientation='vertical', tick_format='0.2f')\n",
    "\n",
    "chart = bp.Figure(marks=[line_chart], axes=[ax_x, ax_y],animation_duration=1000)"
   ]
  },
  {
   "cell_type": "code",
   "execution_count": 12,
   "metadata": {},
   "outputs": [
    {
     "data": {
      "application/vnd.jupyter.widget-view+json": {
       "model_id": "9546fde8da1c45b790f5b1b7f77a6ef9",
       "version_major": 2,
       "version_minor": 0
      },
      "text/plain": [
       "VBox(children=(HBox(children=(SelectMultiple(options=('IBM US Equity', 'MSFT US Equity', 'AAPL US Equity', 'V …"
      ]
     },
     "metadata": {},
     "output_type": "display_data"
    }
   ],
   "source": [
    "dr=ipw.SelectMultiple(options=['IBM US Equity','MSFT US Equity','AAPL US Equity','V US Equity','FB US Equity'])\n",
    "button = ipw.Button(description='Upload',button_style='success')\n",
    "button2 = ipw.Button(description='Factor',button_style='info')\n",
    "\n",
    "\n",
    "def upload(evt):\n",
    "    temp=[]\n",
    "    temp2=[]\n",
    "    for i in dr.value:\n",
    "        temp.append(df[i])\n",
    "        temp2.append(i)\n",
    "        chart.marks[0].labels=temp2\n",
    "        chart.marks[0].y=temp\n",
    "\n",
    "def factor(evt):\n",
    "    \n",
    "    if len(chart.marks[0].labels) == 1:\n",
    "        chart.marks[0].y  = chart.marks[0].y/chart.marks[0].y[0]\n",
    "    else:\n",
    "        chart.marks[0].y = [chart.marks[0].y[i]/chart.marks[0].y[i][0] for i in range(len(chart.marks[0].labels))]\n",
    "    \n",
    "button.on_click(upload)\n",
    "button2.on_click(factor)  \n",
    "\n",
    "\n",
    "\n",
    "\n",
    "\n",
    "\n",
    "ipw.VBox([ipw.HBox([dr,ipw.VBox([button,button2])]),chart])\n"
   ]
  },
  {
   "cell_type": "code",
   "execution_count": null,
   "metadata": {},
   "outputs": [],
   "source": []
  }
 ],
 "metadata": {
  "kernelspec": {
   "display_name": "Python 3",
   "language": "python",
   "name": "python3"
  },
  "language_info": {
   "codemirror_mode": {
    "name": "ipython",
    "version": 3
   },
   "file_extension": ".py",
   "mimetype": "text/x-python",
   "name": "python",
   "nbconvert_exporter": "python",
   "pygments_lexer": "ipython3",
   "version": "3.7.4"
  }
 },
 "nbformat": 4,
 "nbformat_minor": 2
}
