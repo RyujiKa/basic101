{
 "cells": [
  {
   "cell_type": "markdown",
   "metadata": {},
   "source": [
    "# Python101  2019-12-03"
   ]
  },
  {
   "cell_type": "markdown",
   "metadata": {},
   "source": [
    "### Basic Commands\n",
    "\n",
    "- shift + enter to run a cell\n",
    "- clikc on >> button on top to run all cells\n",
    "- click on left hand side of the cell and type \"a\" to insert a cell above \"b\" to insert a tab below\n",
    "- tab key or dir() function to see available attributes/methods\n",
    "- within the parenthesis hit shift and tab to see documentations(docstring)\n"
   ]
  },
  {
   "cell_type": "markdown",
   "metadata": {},
   "source": [
    "### Create variables \n",
    "\n",
    "```python\n",
    "\n",
    "my_name = 'Ryuji'\n",
    "favorite_num = 5\n",
    "lucky_num = 7\n",
    "\n",
    "#check the data types\n",
    "type(my_name)\n",
    "\n",
    "type(favorite_num)\n",
    "\n",
    "\n",
    "#print the variable my_name\n",
    "print(my_name)\n",
    "\n",
    "\n",
    "```\n",
    "\n"
   ]
  },
  {
   "cell_type": "code",
   "execution_count": null,
   "metadata": {},
   "outputs": [],
   "source": []
  },
  {
   "cell_type": "markdown",
   "metadata": {},
   "source": [
    "## List\n",
    "- List are ordered sequences that can hold variety of object types.\n",
    "- Use square brackets and commas to create List\n",
    "- List support slicing and indexing\n",
    "\n",
    "```python\n",
    "\n",
    "my_list = [1,2,3]\n",
    "\n",
    "my_list2 = ['AAPL US Equity','IBM US Equity','MSFT US Equity']\n",
    "\n",
    "\n",
    "#retrieve the first objet of this list\n",
    "\n",
    "my_list[0]\n",
    "\n",
    "#second onject(*remember python index will start with 0)\n",
    "\n",
    "my_list[1]\n",
    "\n",
    "\n",
    "#use dir() function to see the available methods\n",
    "\n",
    "dir(my_list)\n",
    "# mylist. hit tab key\n",
    "\n",
    "\n",
    "\n",
    "#append an item to the list\n",
    "\n",
    "my_list2.append('new item')\n",
    "\n",
    "\n",
    "```"
   ]
  },
  {
   "cell_type": "code",
   "execution_count": 18,
   "metadata": {},
   "outputs": [],
   "source": [
    "my_list=[1,2,3]"
   ]
  },
  {
   "cell_type": "code",
   "execution_count": null,
   "metadata": {},
   "outputs": [],
   "source": []
  },
  {
   "cell_type": "markdown",
   "metadata": {},
   "source": [
    "## For loop\n",
    "- Iterate over every element in the object.\n",
    "\n",
    "\n",
    "```python\n",
    "\n",
    "for number in [1,2,3,4,5]:\n",
    "    print(number)\n",
    "    \n",
    "    print('number has been printed')\n",
    "\n",
    "\n",
    "```\n",
    "\n",
    "\n",
    "# If statement\n",
    "\n",
    "```python\n",
    "\n",
    "number =5\n",
    "\n",
    "if number > 10:\n",
    "    print ('number is greater than 10')\n",
    "else:\n",
    "    print('number is not grater than 10')\n",
    "\n",
    "\n",
    "```\n",
    "\n"
   ]
  },
  {
   "cell_type": "code",
   "execution_count": 12,
   "metadata": {},
   "outputs": [
    {
     "name": "stdout",
     "output_type": "stream",
     "text": [
      "1\n",
      "number has been printed\n",
      "2\n",
      "number has been printed\n",
      "3\n",
      "number has been printed\n",
      "4\n",
      "number has been printed\n",
      "5\n",
      "number has been printed\n"
     ]
    }
   ],
   "source": [
    "for number in [1,2,3,4,5]:\n",
    "    print(number)\n",
    "    \n",
    "    print('number has been printed')"
   ]
  },
  {
   "cell_type": "markdown",
   "metadata": {},
   "source": [
    "## Combining for loop with if statements\n",
    "```python\n",
    "\n",
    "\n",
    "pe_ratio =  [10,12,15,8,9,1000,21,12]\n",
    "\n",
    "for pe in pe_ratio:\n",
    "    \n",
    "    if pe >100:\n",
    "        print ('this is an outlier')\n",
    "    else:\n",
    "        print(pe)\n",
    "\n",
    "```"
   ]
  },
  {
   "cell_type": "markdown",
   "metadata": {},
   "source": []
  },
  {
   "cell_type": "markdown",
   "metadata": {},
   "source": [
    "## Functions\n",
    "\n",
    "- Functions allow us to create blocks of codes that can be easily executed\n",
    "- star with the key word def\n",
    "- You can add parameters for the function\n",
    "\n",
    "```python\n",
    "\n",
    "def avg(price1,price2):\n",
    "    return (price1 + price2) /2\n",
    "\n",
    "```"
   ]
  },
  {
   "cell_type": "code",
   "execution_count": 68,
   "metadata": {},
   "outputs": [],
   "source": [
    "def avg(price1,price2):\n",
    "    return (price1 + price2) /2"
   ]
  },
  {
   "cell_type": "code",
   "execution_count": 70,
   "metadata": {},
   "outputs": [
    {
     "data": {
      "text/plain": [
       "125.0"
      ]
     },
     "execution_count": 70,
     "metadata": {},
     "output_type": "execute_result"
    }
   ],
   "source": [
    "avg(100,150)"
   ]
  },
  {
   "cell_type": "markdown",
   "metadata": {},
   "source": [
    "# pandas library\n",
    "\n",
    "- Nothing to do with the animal panda but stands for \"Panel-data\"\n",
    "- pandas is like excel in python\n",
    "- We will be working with dataframe\n",
    "- we will be using acronym pd for pandas and df for DataFrame\n",
    "\n",
    "```python\n",
    "import pandas as pd\n",
    "\n",
    "df = pd.DataFrame()\n",
    "\n",
    "```"
   ]
  },
  {
   "cell_type": "code",
   "execution_count": 84,
   "metadata": {},
   "outputs": [],
   "source": [
    "import pandas as pd\n",
    "\n",
    "df = pd.DataFrame()\n",
    "#adding aaple columns\n",
    "df['AAPL'] = [100,120,130]\n",
    "#adding microsoft column\n",
    "df['MSFT'] = [110,112,115]\n",
    "#adding dates index\n",
    "df.index = ['day1','day2','day3']\n",
    "\n",
    "#to retrieve the only aaple column\n",
    "\n",
    "#df['AAPL']\n",
    "\n",
    "#tto retrieve only the first row\n",
    "\n",
    "#df.iloc[0]"
   ]
  },
  {
   "cell_type": "code",
   "execution_count": null,
   "metadata": {},
   "outputs": [],
   "source": []
  },
  {
   "cell_type": "markdown",
   "metadata": {},
   "source": [
    "##  Quick exercise1\n",
    "\n",
    "#### Create data frame looks like below:\n"
   ]
  },
  {
   "cell_type": "code",
   "execution_count": 90,
   "metadata": {},
   "outputs": [
    {
     "data": {
      "text/html": [
       "<div>\n",
       "<style scoped>\n",
       "    .dataframe tbody tr th:only-of-type {\n",
       "        vertical-align: middle;\n",
       "    }\n",
       "\n",
       "    .dataframe tbody tr th {\n",
       "        vertical-align: top;\n",
       "    }\n",
       "\n",
       "    .dataframe thead th {\n",
       "        text-align: right;\n",
       "    }\n",
       "</style>\n",
       "<table border=\"1\" class=\"dataframe\">\n",
       "  <thead>\n",
       "    <tr style=\"text-align: right;\">\n",
       "      <th></th>\n",
       "      <th>IBM</th>\n",
       "      <th>FB</th>\n",
       "    </tr>\n",
       "  </thead>\n",
       "  <tbody>\n",
       "    <tr>\n",
       "      <td>october</td>\n",
       "      <td>10</td>\n",
       "      <td>20</td>\n",
       "    </tr>\n",
       "    <tr>\n",
       "      <td>november</td>\n",
       "      <td>12</td>\n",
       "      <td>23</td>\n",
       "    </tr>\n",
       "  </tbody>\n",
       "</table>\n",
       "</div>"
      ],
      "text/plain": [
       "          IBM  FB\n",
       "october    10  20\n",
       "november   12  23"
      ]
     },
     "execution_count": 90,
     "metadata": {},
     "output_type": "execute_result"
    }
   ],
   "source": []
  },
  {
   "cell_type": "code",
   "execution_count": null,
   "metadata": {},
   "outputs": [],
   "source": []
  },
  {
   "cell_type": "code",
   "execution_count": null,
   "metadata": {},
   "outputs": [],
   "source": []
  },
  {
   "cell_type": "markdown",
   "metadata": {},
   "source": [
    "##  Quick exercise2-a\n",
    "\n",
    "#### Create a function t called add3  that will take one argument and add 3 to the argument \n",
    "\n",
    "\n"
   ]
  },
  {
   "cell_type": "code",
   "execution_count": 103,
   "metadata": {},
   "outputs": [
    {
     "data": {
      "text/plain": [
       "8"
      ]
     },
     "execution_count": 103,
     "metadata": {},
     "output_type": "execute_result"
    }
   ],
   "source": [
    "add3(5)"
   ]
  },
  {
   "cell_type": "code",
   "execution_count": null,
   "metadata": {},
   "outputs": [],
   "source": []
  },
  {
   "cell_type": "code",
   "execution_count": null,
   "metadata": {},
   "outputs": [],
   "source": []
  },
  {
   "cell_type": "markdown",
   "metadata": {},
   "source": [
    "##  Quick exercise2-b\n",
    "\n",
    "#### add a feature to the function above:\n",
    "- if argument is a text(string) print: \"Please proveide a number\""
   ]
  },
  {
   "cell_type": "code",
   "execution_count": 105,
   "metadata": {},
   "outputs": [
    {
     "data": {
      "text/plain": [
       "'Please provede a number'"
      ]
     },
     "execution_count": 105,
     "metadata": {},
     "output_type": "execute_result"
    }
   ],
   "source": [
    "add3('hello world')"
   ]
  },
  {
   "cell_type": "code",
   "execution_count": null,
   "metadata": {},
   "outputs": [],
   "source": []
  },
  {
   "cell_type": "markdown",
   "metadata": {},
   "source": [
    "##  Quick exercise3\n",
    "\n",
    "#### Add \"US Equity\" to simbols list below and create tickers list\n",
    "##### *hint use for loop and append method"
   ]
  },
  {
   "cell_type": "code",
   "execution_count": 111,
   "metadata": {},
   "outputs": [],
   "source": [
    "simbols = ['AAPL','IBM','MSFT']\n",
    "tickers =[]"
   ]
  },
  {
   "cell_type": "code",
   "execution_count": null,
   "metadata": {},
   "outputs": [],
   "source": []
  },
  {
   "cell_type": "code",
   "execution_count": 112,
   "metadata": {},
   "outputs": [],
   "source": []
  },
  {
   "cell_type": "code",
   "execution_count": 113,
   "metadata": {},
   "outputs": [
    {
     "data": {
      "text/plain": [
       "['AAPL US Equity', 'IBM US Equity', 'MSFT US Equity']"
      ]
     },
     "execution_count": 113,
     "metadata": {},
     "output_type": "execute_result"
    }
   ],
   "source": [
    "tickers"
   ]
  },
  {
   "cell_type": "code",
   "execution_count": null,
   "metadata": {},
   "outputs": [],
   "source": []
  },
  {
   "cell_type": "code",
   "execution_count": null,
   "metadata": {},
   "outputs": [],
   "source": []
  },
  {
   "cell_type": "code",
   "execution_count": null,
   "metadata": {},
   "outputs": [],
   "source": []
  },
  {
   "cell_type": "code",
   "execution_count": null,
   "metadata": {},
   "outputs": [],
   "source": []
  },
  {
   "cell_type": "code",
   "execution_count": null,
   "metadata": {},
   "outputs": [],
   "source": []
  },
  {
   "cell_type": "code",
   "execution_count": null,
   "metadata": {},
   "outputs": [],
   "source": []
  },
  {
   "cell_type": "code",
   "execution_count": null,
   "metadata": {},
   "outputs": [],
   "source": []
  },
  {
   "cell_type": "code",
   "execution_count": null,
   "metadata": {},
   "outputs": [],
   "source": []
  },
  {
   "cell_type": "code",
   "execution_count": null,
   "metadata": {},
   "outputs": [],
   "source": []
  },
  {
   "cell_type": "markdown",
   "metadata": {},
   "source": [
    "## answers\n",
    "```python\n",
    "#ex1\n",
    "df = pd.DataFrame()\n",
    "df['IBM'] = [10,12]\n",
    "df['FB'] =[20,23]\n",
    "df.index = ['october','november']\n",
    "df\n",
    "\n",
    "#ex2a\n",
    "def add3(num):\n",
    "    return num + 3\n",
    "\n",
    "#ex2b\n",
    "def add3(num):\n",
    "    if type(num)==str:\n",
    "        return 'Please provede a number'\n",
    "    return num + 3\n",
    "\n",
    "\n",
    "#ex2b more advanced way\n",
    "def add3(num):\n",
    "    if isinstance(num,str):\n",
    "        return 'Please provede a number'\n",
    "    return num + 3\n",
    "\n",
    "#ex3\n",
    "\n",
    "for i in simbols:\n",
    "    tickers.append(i + ' US Equity')\n",
    "\n",
    "```"
   ]
  },
  {
   "cell_type": "code",
   "execution_count": null,
   "metadata": {},
   "outputs": [],
   "source": []
  },
  {
   "cell_type": "code",
   "execution_count": null,
   "metadata": {},
   "outputs": [],
   "source": []
  },
  {
   "cell_type": "code",
   "execution_count": null,
   "metadata": {},
   "outputs": [],
   "source": []
  },
  {
   "cell_type": "code",
   "execution_count": null,
   "metadata": {},
   "outputs": [],
   "source": []
  },
  {
   "cell_type": "code",
   "execution_count": null,
   "metadata": {},
   "outputs": [],
   "source": []
  }
 ],
 "metadata": {
  "kernelspec": {
   "display_name": "Python 3",
   "language": "python",
   "name": "python3"
  },
  "language_info": {
   "codemirror_mode": {
    "name": "ipython",
    "version": 3
   },
   "file_extension": ".py",
   "mimetype": "text/x-python",
   "name": "python",
   "nbconvert_exporter": "python",
   "pygments_lexer": "ipython3",
   "version": "3.7.4"
  }
 },
 "nbformat": 4,
 "nbformat_minor": 2
}
